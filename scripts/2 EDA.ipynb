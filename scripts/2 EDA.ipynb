{
 "cells": [
  {
   "cell_type": "code",
   "execution_count": 1,
   "metadata": {},
   "outputs": [],
   "source": [
    "from pathlib import Path\n",
    "import pandas as pd\n",
    "import numpy as  np"
   ]
  },
  {
   "cell_type": "code",
   "execution_count": 6,
   "metadata": {},
   "outputs": [],
   "source": [
    "work =  Path(r'D:\\\\Proyectos personales\\\\runners-peru')"
   ]
  },
  {
   "cell_type": "markdown",
   "metadata": {},
   "source": [
    "# Marathons - Lima"
   ]
  },
  {
   "cell_type": "code",
   "execution_count": 9,
   "metadata": {},
   "outputs": [],
   "source": [
    "# Import data\n",
    "lima42k_2017 = pd.read_csv(work/r'data/raw/lima42k_2017.csv')\n",
    "lima42k_2018 = pd.read_csv(work/r'data/raw/lima42k_2018.csv')\n",
    "lima42k_2019 = pd.read_csv(work/r'data/raw/lima42k_2019.csv')\n",
    "\n",
    "# Create new columns\n",
    "lima42k_2017['year'] = 2017\n",
    "lima42k_2018['year'] = 2018\n",
    "lima42k_2019['year'] = 2019"
   ]
  },
  {
   "cell_type": "markdown",
   "metadata": {},
   "source": [
    "## How many runners participated? "
   ]
  },
  {
   "cell_type": "markdown",
   "metadata": {},
   "source": [
    "## How many runners repeat over the marathons?"
   ]
  },
  {
   "cell_type": "markdown",
   "metadata": {},
   "source": [
    "## How old were they?"
   ]
  },
  {
   "cell_type": "markdown",
   "metadata": {},
   "source": [
    "## There are differences in performance by gender?"
   ]
  }
 ],
 "metadata": {
  "interpreter": {
   "hash": "3282607f385ea6f15702157e2a823b97e47a25ad58852c02230532c044fb265d"
  },
  "kernelspec": {
   "display_name": "Python 3.10.4 64-bit (windows store)",
   "language": "python",
   "name": "python3"
  },
  "language_info": {
   "codemirror_mode": {
    "name": "ipython",
    "version": 3
   },
   "file_extension": ".py",
   "mimetype": "text/x-python",
   "name": "python",
   "nbconvert_exporter": "python",
   "pygments_lexer": "ipython3",
   "version": "3.10.4"
  },
  "orig_nbformat": 4
 },
 "nbformat": 4,
 "nbformat_minor": 2
}
